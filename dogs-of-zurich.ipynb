{
 "cells": [
  {
   "cell_type": "code",
   "execution_count": 1,
   "metadata": {
    "execution": {
     "iopub.execute_input": "2020-08-25T18:11:02.166811Z",
     "iopub.status.busy": "2020-08-25T18:11:02.165970Z",
     "iopub.status.idle": "2020-08-25T18:11:02.169492Z",
     "shell.execute_reply": "2020-08-25T18:11:02.168685Z"
    },
    "papermill": {
     "duration": 0.019599,
     "end_time": "2020-08-25T18:11:02.169623",
     "exception": false,
     "start_time": "2020-08-25T18:11:02.150024",
     "status": "completed"
    },
    "tags": []
   },
   "outputs": [],
   "source": [
    "# Hello Viewer\n",
    "# I'm a beginner in Data Science and looking forward to some valuable feedback.\n",
    "# Please drop any suggestion or feedback you have in the comments."
   ]
  },
  {
   "cell_type": "code",
   "execution_count": 2,
   "metadata": {
    "_cell_guid": "b1076dfc-b9ad-4769-8c92-a6c4dae69d19",
    "_uuid": "8f2839f25d086af736a60e9eeb907d3b93b6e0e5",
    "execution": {
     "iopub.execute_input": "2020-08-25T18:11:02.197547Z",
     "iopub.status.busy": "2020-08-25T18:11:02.196650Z",
     "iopub.status.idle": "2020-08-25T18:11:02.204623Z",
     "shell.execute_reply": "2020-08-25T18:11:02.205262Z"
    },
    "papermill": {
     "duration": 0.025619,
     "end_time": "2020-08-25T18:11:02.205423",
     "exception": false,
     "start_time": "2020-08-25T18:11:02.179804",
     "status": "completed"
    },
    "tags": []
   },
   "outputs": [
    {
     "name": "stdout",
     "output_type": "stream",
     "text": [
      "/kaggle/input/dogs-of-zurich/zuordnungstabellehunderassehundetyp.csv\n",
      "/kaggle/input/dogs-of-zurich/20160307hundehalter.csv\n",
      "/kaggle/input/dogs-of-zurich/20151001hundehalter.csv\n",
      "/kaggle/input/dogs-of-zurich/20170308hundehalter.csv\n"
     ]
    }
   ],
   "source": [
    "# This Python 3 environment comes with many helpful analytics libraries installed\n",
    "# It is defined by the kaggle/python Docker image: https://github.com/kaggle/docker-python\n",
    "# For example, here's several helpful packages to load\n",
    "\n",
    "import numpy as np # linear algebra\n",
    "import pandas as pd # data processing, CSV file I/O (e.g. pd.read_csv)\n",
    "import matplotlib.pyplot as plt # data visualization\n",
    "\n",
    "# Input data files are available in the read-only \"../input/\" directory\n",
    "# For example, running this (by clicking run or pressing Shift+Enter) will list all files under the input directory\n",
    "\n",
    "import os\n",
    "for dirname, _, filenames in os.walk('/kaggle/input'):\n",
    "    for filename in filenames:\n",
    "        print(os.path.join(dirname, filename))\n",
    "\n",
    "# You can write up to 5GB to the current directory (/kaggle/working/) that gets preserved as output when you create a version using \"Save & Run All\" \n",
    "# You can also write temporary files to /kaggle/temp/, but they won't be saved outside of the current session"
   ]
  },
  {
   "cell_type": "code",
   "execution_count": 3,
   "metadata": {
    "_cell_guid": "79c7e3d0-c299-4dcb-8224-4455121ee9b0",
    "_uuid": "d629ff2d2480ee46fbb7e2d37f6b5fab8052498a",
    "execution": {
     "iopub.execute_input": "2020-08-25T18:11:02.236067Z",
     "iopub.status.busy": "2020-08-25T18:11:02.235263Z",
     "iopub.status.idle": "2020-08-25T18:11:02.270468Z",
     "shell.execute_reply": "2020-08-25T18:11:02.271087Z"
    },
    "papermill": {
     "duration": 0.055347,
     "end_time": "2020-08-25T18:11:02.271290",
     "exception": false,
     "start_time": "2020-08-25T18:11:02.215943",
     "status": "completed"
    },
    "tags": []
   },
   "outputs": [],
   "source": [
    "df = pd.read_csv('/kaggle/input/dogs-of-zurich/20170308hundehalter.csv')"
   ]
  },
  {
   "cell_type": "code",
   "execution_count": 4,
   "metadata": {
    "execution": {
     "iopub.execute_input": "2020-08-25T18:11:02.299377Z",
     "iopub.status.busy": "2020-08-25T18:11:02.298547Z",
     "iopub.status.idle": "2020-08-25T18:11:02.313974Z",
     "shell.execute_reply": "2020-08-25T18:11:02.313203Z"
    },
    "papermill": {
     "duration": 0.032291,
     "end_time": "2020-08-25T18:11:02.314112",
     "exception": false,
     "start_time": "2020-08-25T18:11:02.281821",
     "status": "completed"
    },
    "tags": []
   },
   "outputs": [],
   "source": [
    "df = df.rename(columns={'ALTER': 'Age','GESCHLECHT':'Gender',\n",
    "                        'STADTKREIS': 'District','RASSE1': 'Primary Breed',\n",
    "                        'RASSE2':'Secondary Breed','GEBURTSJAHR_HUND': 'Year of Birth',\n",
    "                        'GESCHLECHT_HUND': 'Dog Gender','HUNDEFARBE':'Color',\n",
    "                        'RASSENTYP':'Breed Type', 'HALTER_ID':'Holder_id'\n",
    "                       })"
   ]
  },
  {
   "cell_type": "markdown",
   "execution_count": null,
   "metadata": {
    "papermill": {
     "duration": 0.011855,
     "end_time": "2020-08-25T18:11:02.336875",
     "exception": false,
     "start_time": "2020-08-25T18:11:02.325020",
     "status": "completed"
    },
    "tags": []
   },
   "source": [
    "# TYPES OF COLUMNS"
   ]
  },
  {
   "cell_type": "code",
   "execution_count": 5,
   "metadata": {
    "execution": {
     "iopub.execute_input": "2020-08-25T18:11:02.373448Z",
     "iopub.status.busy": "2020-08-25T18:11:02.372209Z",
     "iopub.status.idle": "2020-08-25T18:11:02.378180Z",
     "shell.execute_reply": "2020-08-25T18:11:02.378851Z"
    },
    "papermill": {
     "duration": 0.031441,
     "end_time": "2020-08-25T18:11:02.379034",
     "exception": false,
     "start_time": "2020-08-25T18:11:02.347593",
     "status": "completed"
    },
    "tags": []
   },
   "outputs": [
    {
     "data": {
      "text/plain": [
       "Holder_id             int64\n",
       "Age                  object\n",
       "Gender               object\n",
       "District            float64\n",
       "STADTQUARTIER       float64\n",
       "Primary Breed        object\n",
       "RASSE1_MISCHLING     object\n",
       "Secondary Breed      object\n",
       "RASSE2_MISCHLING    float64\n",
       "Breed Type           object\n",
       "Year of Birth         int64\n",
       "Dog Gender           object\n",
       "Color                object\n",
       "dtype: object"
      ]
     },
     "execution_count": 5,
     "metadata": {},
     "output_type": "execute_result"
    }
   ],
   "source": [
    "df.dtypes"
   ]
  },
  {
   "cell_type": "code",
   "execution_count": 6,
   "metadata": {
    "execution": {
     "iopub.execute_input": "2020-08-25T18:11:02.412680Z",
     "iopub.status.busy": "2020-08-25T18:11:02.411752Z",
     "iopub.status.idle": "2020-08-25T18:11:02.476615Z",
     "shell.execute_reply": "2020-08-25T18:11:02.475708Z"
    },
    "papermill": {
     "duration": 0.086446,
     "end_time": "2020-08-25T18:11:02.476776",
     "exception": false,
     "start_time": "2020-08-25T18:11:02.390330",
     "status": "completed"
    },
    "tags": []
   },
   "outputs": [],
   "source": [
    "df.dropna(axis=1, how='all', inplace=True)\n",
    "df.drop(columns=['Secondary Breed', 'RASSE1_MISCHLING'], inplace=True)\n",
    "df = df[df.Age.notnull()]"
   ]
  },
  {
   "cell_type": "code",
   "execution_count": 7,
   "metadata": {
    "execution": {
     "iopub.execute_input": "2020-08-25T18:11:02.519098Z",
     "iopub.status.busy": "2020-08-25T18:11:02.517816Z",
     "iopub.status.idle": "2020-08-25T18:11:02.539931Z",
     "shell.execute_reply": "2020-08-25T18:11:02.540498Z"
    },
    "papermill": {
     "duration": 0.05259,
     "end_time": "2020-08-25T18:11:02.540671",
     "exception": false,
     "start_time": "2020-08-25T18:11:02.488081",
     "status": "completed"
    },
    "tags": []
   },
   "outputs": [
    {
     "data": {
      "text/html": [
       "<div>\n",
       "<style scoped>\n",
       "    .dataframe tbody tr th:only-of-type {\n",
       "        vertical-align: middle;\n",
       "    }\n",
       "\n",
       "    .dataframe tbody tr th {\n",
       "        vertical-align: top;\n",
       "    }\n",
       "\n",
       "    .dataframe thead th {\n",
       "        text-align: right;\n",
       "    }\n",
       "</style>\n",
       "<table border=\"1\" class=\"dataframe\">\n",
       "  <thead>\n",
       "    <tr style=\"text-align: right;\">\n",
       "      <th></th>\n",
       "      <th>Holder_id</th>\n",
       "      <th>Age</th>\n",
       "      <th>Gender</th>\n",
       "      <th>District</th>\n",
       "      <th>STADTQUARTIER</th>\n",
       "      <th>Primary Breed</th>\n",
       "      <th>Breed Type</th>\n",
       "      <th>Year of Birth</th>\n",
       "      <th>Dog Gender</th>\n",
       "      <th>Color</th>\n",
       "    </tr>\n",
       "  </thead>\n",
       "  <tbody>\n",
       "    <tr>\n",
       "      <th>0</th>\n",
       "      <td>126</td>\n",
       "      <td>61-70</td>\n",
       "      <td>m</td>\n",
       "      <td>9.0</td>\n",
       "      <td>92.0</td>\n",
       "      <td>Welsh Terrier</td>\n",
       "      <td>K</td>\n",
       "      <td>2011</td>\n",
       "      <td>w</td>\n",
       "      <td>schwarz/braun</td>\n",
       "    </tr>\n",
       "    <tr>\n",
       "      <th>1</th>\n",
       "      <td>171</td>\n",
       "      <td>61-70</td>\n",
       "      <td>m</td>\n",
       "      <td>3.0</td>\n",
       "      <td>31.0</td>\n",
       "      <td>Berner Sennenhund</td>\n",
       "      <td>I</td>\n",
       "      <td>2009</td>\n",
       "      <td>m</td>\n",
       "      <td>tricolor</td>\n",
       "    </tr>\n",
       "    <tr>\n",
       "      <th>2</th>\n",
       "      <td>574</td>\n",
       "      <td>61-70</td>\n",
       "      <td>w</td>\n",
       "      <td>2.0</td>\n",
       "      <td>23.0</td>\n",
       "      <td>Mischling gross</td>\n",
       "      <td>I</td>\n",
       "      <td>2013</td>\n",
       "      <td>w</td>\n",
       "      <td>schwarz</td>\n",
       "    </tr>\n",
       "    <tr>\n",
       "      <th>3</th>\n",
       "      <td>695</td>\n",
       "      <td>41-50</td>\n",
       "      <td>m</td>\n",
       "      <td>6.0</td>\n",
       "      <td>63.0</td>\n",
       "      <td>Labrador Retriever</td>\n",
       "      <td>I</td>\n",
       "      <td>2012</td>\n",
       "      <td>w</td>\n",
       "      <td>braun</td>\n",
       "    </tr>\n",
       "    <tr>\n",
       "      <th>4</th>\n",
       "      <td>893</td>\n",
       "      <td>61-70</td>\n",
       "      <td>w</td>\n",
       "      <td>7.0</td>\n",
       "      <td>71.0</td>\n",
       "      <td>Mittelschnauzer</td>\n",
       "      <td>I</td>\n",
       "      <td>2010</td>\n",
       "      <td>w</td>\n",
       "      <td>schwarz</td>\n",
       "    </tr>\n",
       "    <tr>\n",
       "      <th>...</th>\n",
       "      <td>...</td>\n",
       "      <td>...</td>\n",
       "      <td>...</td>\n",
       "      <td>...</td>\n",
       "      <td>...</td>\n",
       "      <td>...</td>\n",
       "      <td>...</td>\n",
       "      <td>...</td>\n",
       "      <td>...</td>\n",
       "      <td>...</td>\n",
       "    </tr>\n",
       "    <tr>\n",
       "      <th>7150</th>\n",
       "      <td>135718</td>\n",
       "      <td>31-40</td>\n",
       "      <td>m</td>\n",
       "      <td>9.0</td>\n",
       "      <td>91.0</td>\n",
       "      <td>Mischling gross</td>\n",
       "      <td>I</td>\n",
       "      <td>2015</td>\n",
       "      <td>w</td>\n",
       "      <td>golden</td>\n",
       "    </tr>\n",
       "    <tr>\n",
       "      <th>7151</th>\n",
       "      <td>135725</td>\n",
       "      <td>31-40</td>\n",
       "      <td>w</td>\n",
       "      <td>7.0</td>\n",
       "      <td>74.0</td>\n",
       "      <td>Boxer</td>\n",
       "      <td>I</td>\n",
       "      <td>2016</td>\n",
       "      <td>w</td>\n",
       "      <td>gelb/weiss</td>\n",
       "    </tr>\n",
       "    <tr>\n",
       "      <th>7152</th>\n",
       "      <td>135726</td>\n",
       "      <td>11-20</td>\n",
       "      <td>w</td>\n",
       "      <td>11.0</td>\n",
       "      <td>111.0</td>\n",
       "      <td>Pinscher</td>\n",
       "      <td>K</td>\n",
       "      <td>2016</td>\n",
       "      <td>w</td>\n",
       "      <td>schwarz</td>\n",
       "    </tr>\n",
       "    <tr>\n",
       "      <th>7153</th>\n",
       "      <td>135728</td>\n",
       "      <td>31-40</td>\n",
       "      <td>w</td>\n",
       "      <td>7.0</td>\n",
       "      <td>72.0</td>\n",
       "      <td>Whippet</td>\n",
       "      <td>I</td>\n",
       "      <td>2016</td>\n",
       "      <td>w</td>\n",
       "      <td>vierfarbig</td>\n",
       "    </tr>\n",
       "    <tr>\n",
       "      <th>7154</th>\n",
       "      <td>135731</td>\n",
       "      <td>21-30</td>\n",
       "      <td>m</td>\n",
       "      <td>9.0</td>\n",
       "      <td>91.0</td>\n",
       "      <td>Cocker Spaniel</td>\n",
       "      <td>K</td>\n",
       "      <td>2016</td>\n",
       "      <td>m</td>\n",
       "      <td>schwarz</td>\n",
       "    </tr>\n",
       "  </tbody>\n",
       "</table>\n",
       "<p>7154 rows × 10 columns</p>\n",
       "</div>"
      ],
      "text/plain": [
       "      Holder_id    Age Gender  District  STADTQUARTIER       Primary Breed  \\\n",
       "0           126  61-70      m       9.0           92.0       Welsh Terrier   \n",
       "1           171  61-70      m       3.0           31.0   Berner Sennenhund   \n",
       "2           574  61-70      w       2.0           23.0     Mischling gross   \n",
       "3           695  41-50      m       6.0           63.0  Labrador Retriever   \n",
       "4           893  61-70      w       7.0           71.0     Mittelschnauzer   \n",
       "...         ...    ...    ...       ...            ...                 ...   \n",
       "7150     135718  31-40      m       9.0           91.0     Mischling gross   \n",
       "7151     135725  31-40      w       7.0           74.0               Boxer   \n",
       "7152     135726  11-20      w      11.0          111.0            Pinscher   \n",
       "7153     135728  31-40      w       7.0           72.0             Whippet   \n",
       "7154     135731  21-30      m       9.0           91.0      Cocker Spaniel   \n",
       "\n",
       "     Breed Type  Year of Birth Dog Gender          Color  \n",
       "0             K           2011          w  schwarz/braun  \n",
       "1             I           2009          m       tricolor  \n",
       "2             I           2013          w        schwarz  \n",
       "3             I           2012          w          braun  \n",
       "4             I           2010          w        schwarz  \n",
       "...         ...            ...        ...            ...  \n",
       "7150          I           2015          w         golden  \n",
       "7151          I           2016          w     gelb/weiss  \n",
       "7152          K           2016          w        schwarz  \n",
       "7153          I           2016          w     vierfarbig  \n",
       "7154          K           2016          m        schwarz  \n",
       "\n",
       "[7154 rows x 10 columns]"
      ]
     },
     "execution_count": 7,
     "metadata": {},
     "output_type": "execute_result"
    }
   ],
   "source": [
    "df"
   ]
  },
  {
   "cell_type": "code",
   "execution_count": 8,
   "metadata": {
    "execution": {
     "iopub.execute_input": "2020-08-25T18:11:02.571551Z",
     "iopub.status.busy": "2020-08-25T18:11:02.570681Z",
     "iopub.status.idle": "2020-08-25T18:11:02.574417Z",
     "shell.execute_reply": "2020-08-25T18:11:02.573625Z"
    },
    "papermill": {
     "duration": 0.022427,
     "end_time": "2020-08-25T18:11:02.574547",
     "exception": false,
     "start_time": "2020-08-25T18:11:02.552120",
     "status": "completed"
    },
    "tags": []
   },
   "outputs": [],
   "source": [
    "label = ['11-20', '21-30', '31-40', '41-50', '51-60', '61-70', '71-80', '81-90','91-100']\n",
    "x = np.arange(len(label))\n",
    "width = 0.35\n",
    "# df.Age.unique()"
   ]
  },
  {
   "cell_type": "code",
   "execution_count": 9,
   "metadata": {
    "execution": {
     "iopub.execute_input": "2020-08-25T18:11:02.636168Z",
     "iopub.status.busy": "2020-08-25T18:11:02.628135Z",
     "iopub.status.idle": "2020-08-25T18:11:02.682644Z",
     "shell.execute_reply": "2020-08-25T18:11:02.680981Z"
    },
    "papermill": {
     "duration": 0.095922,
     "end_time": "2020-08-25T18:11:02.682895",
     "exception": false,
     "start_time": "2020-08-25T18:11:02.586973",
     "status": "completed"
    },
    "tags": []
   },
   "outputs": [
    {
     "name": "stdout",
     "output_type": "stream",
     "text": [
      "[9, 181, 434, 495, 456, 342, 219, 56, 4]\n",
      "[36, 608, 949, 994, 1091, 699, 454, 116, 11]\n"
     ]
    }
   ],
   "source": [
    "men, women = [], []\n",
    "for age in label:\n",
    "    men.append(len(df[(df.Gender == 'm') & (df.Age == age)]))\n",
    "    women.append(len(df[(df.Gender == 'w') & (df.Age == age)]))\n",
    "    \n",
    "print(men)\n",
    "print(women)"
   ]
  },
  {
   "cell_type": "markdown",
   "execution_count": null,
   "metadata": {
    "papermill": {
     "duration": 0.012451,
     "end_time": "2020-08-25T18:11:02.709278",
     "exception": false,
     "start_time": "2020-08-25T18:11:02.696827",
     "status": "completed"
    },
    "tags": []
   },
   "source": [
    "# Ownership Distribution Based on Gender in Different Age Groups"
   ]
  },
  {
   "cell_type": "code",
   "execution_count": 10,
   "metadata": {
    "execution": {
     "iopub.execute_input": "2020-08-25T18:11:02.742517Z",
     "iopub.status.busy": "2020-08-25T18:11:02.741708Z",
     "iopub.status.idle": "2020-08-25T18:11:03.088063Z",
     "shell.execute_reply": "2020-08-25T18:11:03.087162Z"
    },
    "papermill": {
     "duration": 0.36647,
     "end_time": "2020-08-25T18:11:03.088213",
     "exception": false,
     "start_time": "2020-08-25T18:11:02.721743",
     "status": "completed"
    },
    "tags": []
   },
   "outputs": [
    {
     "data": {
      "text/plain": [
       "<matplotlib.legend.Legend at 0x7fecd551ae50>"
      ]
     },
     "execution_count": 10,
     "metadata": {},
     "output_type": "execute_result"
    },
    {
     "data": {
      "image/png": "[encoded data removed]",
      "text/plain": [
       "<Figure size 864x504 with 1 Axes>"
      ]
     },
     "metadata": {
      "needs_background": "light"
     },
     "output_type": "display_data"
    }
   ],
   "source": [
    "fig,ax = plt.subplots(figsize=(12,7))\n",
    "rec = ax.bar(x-width/2, men, width, label='Men')\n",
    "rect = ax.bar(x+width/2, women, width, label='Women')\n",
    "ax.set_xticks(x)\n",
    "ax.set_xticklabels(label)\n",
    "ax.set_ylabel('No. of people')\n",
    "ax.set_title('Men vs Women Ownership by Age Group')\n",
    "ax.legend()"
   ]
  },
  {
   "cell_type": "code",
   "execution_count": 11,
   "metadata": {
    "execution": {
     "iopub.execute_input": "2020-08-25T18:11:03.123879Z",
     "iopub.status.busy": "2020-08-25T18:11:03.122777Z",
     "iopub.status.idle": "2020-08-25T18:11:03.127619Z",
     "shell.execute_reply": "2020-08-25T18:11:03.126895Z"
    },
    "papermill": {
     "duration": 0.025326,
     "end_time": "2020-08-25T18:11:03.127762",
     "exception": false,
     "start_time": "2020-08-25T18:11:03.102436",
     "status": "completed"
    },
    "tags": []
   },
   "outputs": [
    {
     "data": {
      "text/plain": [
       "array(['K', 'I', 'II'], dtype=object)"
      ]
     },
     "execution_count": 11,
     "metadata": {},
     "output_type": "execute_result"
    }
   ],
   "source": [
    "df['Breed Type'].unique()"
   ]
  },
  {
   "cell_type": "code",
   "execution_count": 12,
   "metadata": {
    "execution": {
     "iopub.execute_input": "2020-08-25T18:11:03.169322Z",
     "iopub.status.busy": "2020-08-25T18:11:03.161739Z",
     "iopub.status.idle": "2020-08-25T18:11:03.264905Z",
     "shell.execute_reply": "2020-08-25T18:11:03.263927Z"
    },
    "papermill": {
     "duration": 0.125333,
     "end_time": "2020-08-25T18:11:03.265104",
     "exception": false,
     "start_time": "2020-08-25T18:11:03.139771",
     "status": "completed"
    },
    "tags": []
   },
   "outputs": [
    {
     "name": "stdout",
     "output_type": "stream",
     "text": [
      "[31, 532, 833, 943, 925, 670, 434, 126, 10]\n",
      "[14, 255, 547, 540, 618, 369, 238, 46, 5]\n",
      "[0, 2, 3, 6, 4, 2, 1, 0, 0]\n"
     ]
    }
   ],
   "source": [
    "t1, t2, t3 = [], [], []\n",
    "for age in label:\n",
    "    t1.append(len(df[(df['Breed Type'] == 'K') & (df.Age == age)]))\n",
    "    t2.append(len(df[(df['Breed Type'] == 'I') & (df.Age == age)]))\n",
    "    t3.append(len(df[(df['Breed Type'] == 'II') & (df.Age == age)]))\n",
    "print(t1)\n",
    "print(t2)\n",
    "print(t3)"
   ]
  },
  {
   "cell_type": "markdown",
   "execution_count": null,
   "metadata": {
    "papermill": {
     "duration": 0.011851,
     "end_time": "2020-08-25T18:11:03.290639",
     "exception": false,
     "start_time": "2020-08-25T18:11:03.278788",
     "status": "completed"
    },
    "tags": []
   },
   "source": [
    "# TYPE OF BREED OWNERSHIP DISTRIBUTION BY AGE GROUPS"
   ]
  },
  {
   "cell_type": "code",
   "execution_count": 13,
   "metadata": {
    "execution": {
     "iopub.execute_input": "2020-08-25T18:11:03.325181Z",
     "iopub.status.busy": "2020-08-25T18:11:03.324296Z",
     "iopub.status.idle": "2020-08-25T18:11:03.679675Z",
     "shell.execute_reply": "2020-08-25T18:11:03.680383Z"
    },
    "papermill": {
     "duration": 0.377667,
     "end_time": "2020-08-25T18:11:03.680572",
     "exception": false,
     "start_time": "2020-08-25T18:11:03.302905",
     "status": "completed"
    },
    "tags": []
   },
   "outputs": [
    {
     "data": {
      "text/plain": [
       "<matplotlib.legend.Legend at 0x7fecd5449e50>"
      ]
     },
     "execution_count": 13,
     "metadata": {},
     "output_type": "execute_result"
    },
    {
     "data": {
      "image/png": "[encoded data removed]",
      "text/plain": [
       "<Figure size 864x504 with 1 Axes>"
      ]
     },
     "metadata": {
      "needs_background": "light"
     },
     "output_type": "display_data"
    }
   ],
   "source": [
    "fig1,ax1 = plt.subplots(figsize=(12,7))\n",
    "rec = ax1.bar(x-width/2, t1, width, label='Type K')\n",
    "rect = ax1.bar(x+width/2, t2, width, label='Type I')\n",
    "rects = ax1.bar(x, t3, width, label='Type II')\n",
    "ax1.set_xticks(x)\n",
    "ax1.set_xticklabels(label)\n",
    "ax1.set_ylabel('No. of Dogs')\n",
    "ax1.set_title('Type of Breed Ownership by Age Group')\n",
    "ax1.legend()"
   ]
  },
  {
   "cell_type": "code",
   "execution_count": 14,
   "metadata": {
    "execution": {
     "iopub.execute_input": "2020-08-25T18:11:03.716222Z",
     "iopub.status.busy": "2020-08-25T18:11:03.715371Z",
     "iopub.status.idle": "2020-08-25T18:11:03.722205Z",
     "shell.execute_reply": "2020-08-25T18:11:03.721508Z"
    },
    "papermill": {
     "duration": 0.026997,
     "end_time": "2020-08-25T18:11:03.722337",
     "exception": false,
     "start_time": "2020-08-25T18:11:03.695340",
     "status": "completed"
    },
    "tags": []
   },
   "outputs": [
    {
     "data": {
      "text/plain": [
       "array([ 9.,  3.,  2.,  6.,  7., 10., 11.,  8.,  5.,  4., 12.,  1.])"
      ]
     },
     "execution_count": 14,
     "metadata": {},
     "output_type": "execute_result"
    }
   ],
   "source": [
    "df.District.unique()"
   ]
  },
  {
   "cell_type": "code",
   "execution_count": 15,
   "metadata": {
    "execution": {
     "iopub.execute_input": "2020-08-25T18:11:03.761058Z",
     "iopub.status.busy": "2020-08-25T18:11:03.759773Z",
     "iopub.status.idle": "2020-08-25T18:11:03.765523Z",
     "shell.execute_reply": "2020-08-25T18:11:03.764659Z"
    },
    "papermill": {
     "duration": 0.03047,
     "end_time": "2020-08-25T18:11:03.765662",
     "exception": false,
     "start_time": "2020-08-25T18:11:03.735192",
     "status": "completed"
    },
    "tags": []
   },
   "outputs": [
    {
     "data": {
      "text/plain": [
       "array(['mahagoni/weiss', 'gestromt', 'schwarz', 'beige/weiss',\n",
       "       'braun/schwarz', 'schwarz gestromt', 'braun/schwarz/weiss',\n",
       "       'braun', 'braun/weiss', 'wildfarbig', 'weiss', 'beige/braun'],\n",
       "      dtype=object)"
      ]
     },
     "execution_count": 15,
     "metadata": {},
     "output_type": "execute_result"
    }
   ],
   "source": [
    "type_k = df[df['Breed Type'] == 'II']\n",
    "type_k.Color.unique()"
   ]
  },
  {
   "cell_type": "code",
   "execution_count": 16,
   "metadata": {
    "execution": {
     "iopub.execute_input": "2020-08-25T18:11:03.802638Z",
     "iopub.status.busy": "2020-08-25T18:11:03.801771Z",
     "iopub.status.idle": "2020-08-25T18:11:03.805775Z",
     "shell.execute_reply": "2020-08-25T18:11:03.804820Z"
    },
    "papermill": {
     "duration": 0.024621,
     "end_time": "2020-08-25T18:11:03.805926",
     "exception": false,
     "start_time": "2020-08-25T18:11:03.781305",
     "status": "completed"
    },
    "tags": []
   },
   "outputs": [],
   "source": [
    "colors = ['schwarz', 'blue', 'braun', 'wildfarbig', 'weiss', 'orange']\n",
    "y = np.arange(len(colors))\n"
   ]
  },
  {
   "cell_type": "code",
   "execution_count": 17,
   "metadata": {
    "execution": {
     "iopub.execute_input": "2020-08-25T18:11:03.918255Z",
     "iopub.status.busy": "2020-08-25T18:11:03.917140Z",
     "iopub.status.idle": "2020-08-25T18:11:03.922602Z",
     "shell.execute_reply": "2020-08-25T18:11:03.921707Z"
    },
    "papermill": {
     "duration": 0.101228,
     "end_time": "2020-08-25T18:11:03.922856",
     "exception": false,
     "start_time": "2020-08-25T18:11:03.821628",
     "status": "completed"
    },
    "tags": []
   },
   "outputs": [
    {
     "name": "stdout",
     "output_type": "stream",
     "text": [
      "[367, 4, 318, 5, 488, 27] [405, 2, 216, 4, 92, 4] [4, 0, 2, 1, 1, 0]\n"
     ]
    }
   ],
   "source": [
    "d1, d2, d3 = [], [], []\n",
    "for c in colors:\n",
    "    d1.append(len(df[(df['Breed Type'] == 'K') & (df.Color == c)]))\n",
    "    d2.append(len(df[(df['Breed Type'] == 'I') & (df.Color == c)]))\n",
    "    d3.append(len(df[(df['Breed Type'] == 'II') & (df.Color == c)]))\n",
    "    \n",
    "print(d1,d2,d3)\n",
    "    "
   ]
  },
  {
   "cell_type": "markdown",
   "execution_count": null,
   "metadata": {
    "papermill": {
     "duration": 0.018349,
     "end_time": "2020-08-25T18:11:03.956857",
     "exception": false,
     "start_time": "2020-08-25T18:11:03.938508",
     "status": "completed"
    },
    "tags": []
   },
   "source": [
    "# SELECTED COLOR DISTRIBUTION AMONG BREED TYPE"
   ]
  },
  {
   "cell_type": "code",
   "execution_count": 18,
   "metadata": {
    "execution": {
     "iopub.execute_input": "2020-08-25T18:11:04.012507Z",
     "iopub.status.busy": "2020-08-25T18:11:04.001406Z",
     "iopub.status.idle": "2020-08-25T18:11:04.269560Z",
     "shell.execute_reply": "2020-08-25T18:11:04.268775Z"
    },
    "papermill": {
     "duration": 0.295125,
     "end_time": "2020-08-25T18:11:04.269688",
     "exception": false,
     "start_time": "2020-08-25T18:11:03.974563",
     "status": "completed"
    },
    "tags": []
   },
   "outputs": [
    {
     "data": {
      "text/plain": [
       "<matplotlib.legend.Legend at 0x7fecd53fcf10>"
      ]
     },
     "execution_count": 18,
     "metadata": {},
     "output_type": "execute_result"
    },
    {
     "data": {
      "image/png": "[encoded data removed]",
      "text/plain": [
       "<Figure size 864x504 with 1 Axes>"
      ]
     },
     "metadata": {
      "needs_background": "light"
     },
     "output_type": "display_data"
    }
   ],
   "source": [
    "fig2, ax2 = plt.subplots(figsize=(12,7))\n",
    "type_one = ax2.plot(y, d1, '-o', label='Type K')\n",
    "type_two = ax2.plot(y, d2, '-o', label='Type I')\n",
    "type_three = ax2.plot(y, d3, '-o', label='Type II')\n",
    "ax2.set_xticks(y)\n",
    "ax2.set_xticklabels(colors)\n",
    "ax2.set_ylabel('No. of Dogs')\n",
    "ax2.set_title('Selected Colors Distribution among Breed Type')\n",
    "ax2.legend()"
   ]
  },
  {
   "cell_type": "code",
   "execution_count": null,
   "metadata": {
    "papermill": {
     "duration": 0.014431,
     "end_time": "2020-08-25T18:11:04.298836",
     "exception": false,
     "start_time": "2020-08-25T18:11:04.284405",
     "status": "completed"
    },
    "tags": []
   },
   "outputs": [],
   "source": []
  }
 ],
 "metadata": {
  "kernelspec": {
   "display_name": "Python 3",
   "language": "python",
   "name": "python3"
  },
  "language_info": {
   "codemirror_mode": {
    "name": "ipython",
    "version": 3
   },
   "file_extension": ".py",
   "mimetype": "text/x-python",
   "name": "python",
   "nbconvert_exporter": "python",
   "pygments_lexer": "ipython3",
   "version": "3.7.6"
  },
  "papermill": {
   "duration": 8.560482,
   "end_time": "2020-08-25T18:11:04.421112",
   "environment_variables": {},
   "exception": null,
   "input_path": "__notebook__.ipynb",
   "output_path": "__notebook__.ipynb",
   "parameters": {},
   "start_time": "2020-08-25T18:10:55.860630",
   "version": "2.1.0"
  }
 },
 "nbformat": 4,
 "nbformat_minor": 4
}
